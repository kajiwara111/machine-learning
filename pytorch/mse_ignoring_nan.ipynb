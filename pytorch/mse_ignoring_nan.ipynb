{
 "cells": [
  {
   "cell_type": "code",
   "execution_count": 5,
   "id": "174dd85c-0bfd-489d-8d10-2845a64cc6b1",
   "metadata": {},
   "outputs": [
    {
     "name": "stdout",
     "output_type": "stream",
     "text": [
      "tensor([[ True, False,  True,  True,  True],\n",
      "        [ True,  True,  True, False,  True]])\n",
      "tensor([1., 3., 4., 5., 1., 1., 2., 5.])\n",
      "MSE loss: 0.5\n"
     ]
    }
   ],
   "source": [
    "    import torch\n",
    "    import torch.nn as nn\n",
    "\n",
    "    class MSELossIgnoringNaN(nn.Module):\n",
    "        def __init__(self):\n",
    "            super(MSELossIgnoringNaN, self).__init__()\n",
    "\n",
    "        def forward(self, prediction, target):\n",
    "            # nanをmask\n",
    "            mask = ~torch.isnan(target)\n",
    "            print(mask)\n",
    "            masked_prediction = prediction[mask]\n",
    "            print(masked_prediction)\n",
    "            masked_target = target[mask]\n",
    "\n",
    "            # 2条損失の計算\n",
    "            squared_error = (masked_prediction - masked_target) ** 2\n",
    "            mse_loss = torch.mean(squared_error)\n",
    "\n",
    "            return mse_loss\n",
    "\n",
    "    # 実行結果の確認\n",
    "    prediction = torch.tensor([[1.0, 2.0, 3.0, 4.0, 5.0], \n",
    "                               [1.0, 1.0, 2.0, 3.0, 5.0]])\n",
    "    target = torch.tensor([[1.0, float(\"nan\"), 3.0, 4.0, 6.0], \n",
    "                           [1.0, 2.0, 3.0, float(\"nan\"), 6.0]])\n",
    "\n",
    "    mse_ignoring_nan_loss =  MSELossIgnoringNaN()\n",
    "    loss = mse_ignoring_nan_loss(prediction, target)\n",
    "    print(\"MSE loss:\", loss.item())"
   ]
  },
  {
   "cell_type": "code",
   "execution_count": null,
   "id": "2a94efaf-ed98-4c0b-9460-d9a02a0b6c09",
   "metadata": {},
   "outputs": [],
   "source": []
  }
 ],
 "metadata": {
  "kernelspec": {
   "display_name": "Python 3 (ipykernel)",
   "language": "python",
   "name": "python3"
  },
  "language_info": {
   "codemirror_mode": {
    "name": "ipython",
    "version": 3
   },
   "file_extension": ".py",
   "mimetype": "text/x-python",
   "name": "python",
   "nbconvert_exporter": "python",
   "pygments_lexer": "ipython3",
   "version": "3.7.11"
  }
 },
 "nbformat": 4,
 "nbformat_minor": 5
}
